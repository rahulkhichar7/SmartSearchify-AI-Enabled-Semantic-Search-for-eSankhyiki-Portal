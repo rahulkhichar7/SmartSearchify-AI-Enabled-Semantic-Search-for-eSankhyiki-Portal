{
 "cells": [
  {
   "cell_type": "code",
   "execution_count": 1,
   "id": "3625cf0a",
   "metadata": {},
   "outputs": [],
   "source": [
    "import numpy as np\n",
    "import pandas as pd\n",
    "import matplotlib.pyplot as plt\n",
    "import seaborn as sns\n",
    "import os"
   ]
  },
  {
   "cell_type": "code",
   "execution_count": 2,
   "id": "cd0b5002",
   "metadata": {},
   "outputs": [
    {
     "data": {
      "text/plain": [
       "(0, 0)"
      ]
     },
     "execution_count": 2,
     "metadata": {},
     "output_type": "execute_result"
    }
   ],
   "source": [
    "df = pd.DataFrame()\n",
    "df.shape"
   ]
  },
  {
   "cell_type": "code",
   "execution_count": 3,
   "id": "0ab14055",
   "metadata": {},
   "outputs": [
    {
     "data": {
      "text/plain": [
       "['ASI', 'ASUSE', 'CAMS', 'CPI', 'HCES', 'IIP', 'MIS', 'NAS', 'PLFS', 'WMI']"
      ]
     },
     "execution_count": 3,
     "metadata": {},
     "output_type": "execute_result"
    }
   ],
   "source": [
    "dataset_dir = \"eSankyiki Dataset\"\n",
    "os.listdir(dataset_dir)"
   ]
  },
  {
   "cell_type": "code",
   "execution_count": 4,
   "id": "6edf66f0",
   "metadata": {},
   "outputs": [
    {
     "name": "stdout",
     "output_type": "stream",
     "text": [
      "eSankyiki Dataset\\ASI\\ASI_details.csv\n",
      "(11, 11)\n",
      "eSankyiki Dataset\\ASUSE\\ASUSE_details.csv\n",
      "(100, 11)\n",
      "eSankyiki Dataset\\CAMS\\CAMS_datasets.csv\n",
      "(126, 11)\n",
      "eSankyiki Dataset\\CPI\\CPI_1_details.csv\n",
      "(226, 11)\n",
      "eSankyiki Dataset\\CPI\\CPI_2_details.csv\n",
      "(326, 11)\n",
      "eSankyiki Dataset\\CPI\\CPI_3_details.csv\n",
      "(426, 11)\n",
      "eSankyiki Dataset\\CPI\\CPI_4_details.csv\n",
      "(520, 11)\n",
      "eSankyiki Dataset\\HCES\\HCES_details.csv\n",
      "(574, 11)\n",
      "eSankyiki Dataset\\IIP\\IIP_1_details.csv\n",
      "(674, 11)\n",
      "eSankyiki Dataset\\IIP\\IIP_2_details.csv\n",
      "(774, 11)\n",
      "eSankyiki Dataset\\IIP\\IIP_3_details.csv\n",
      "(874, 11)\n",
      "eSankyiki Dataset\\IIP\\IIP_4_details.csv\n",
      "(954, 11)\n",
      "eSankyiki Dataset\\MIS\\MIS_details.csv\n",
      "(974, 11)\n",
      "eSankyiki Dataset\\NAS\\NAS01_details.csv\n",
      "(1074, 11)\n",
      "eSankyiki Dataset\\NAS\\NAS02_details.csv\n",
      "(1174, 11)\n",
      "eSankyiki Dataset\\NAS\\NAS03_details.csv\n",
      "(1274, 11)\n",
      "eSankyiki Dataset\\NAS\\NAS04_details.csv\n",
      "(1374, 11)\n",
      "eSankyiki Dataset\\NAS\\NAS05_details.csv\n",
      "(1474, 11)\n",
      "eSankyiki Dataset\\NAS\\NAS06_details.csv\n",
      "(1574, 11)\n",
      "eSankyiki Dataset\\NAS\\NAS07_details.csv\n",
      "(1674, 11)\n",
      "eSankyiki Dataset\\NAS\\NAS08_details.csv\n",
      "(1774, 11)\n",
      "eSankyiki Dataset\\NAS\\NAS09_details.csv\n",
      "(1874, 11)\n",
      "eSankyiki Dataset\\NAS\\NAS10_details.csv\n",
      "(1974, 11)\n",
      "eSankyiki Dataset\\NAS\\NAS11_details.csv\n",
      "(2074, 11)\n",
      "eSankyiki Dataset\\NAS\\NAS12_details.csv\n",
      "(2174, 11)\n",
      "eSankyiki Dataset\\NAS\\NAS13_details.csv\n",
      "(2274, 11)\n",
      "eSankyiki Dataset\\NAS\\NAS14_details.csv\n",
      "(2320, 11)\n",
      "eSankyiki Dataset\\PLFS\\PLFS1_details.csv\n",
      "(2420, 11)\n",
      "eSankyiki Dataset\\PLFS\\PLFS2_details.csv\n",
      "(2520, 11)\n",
      "eSankyiki Dataset\\PLFS\\PLFS3_details.csv\n",
      "(2620, 11)\n",
      "eSankyiki Dataset\\PLFS\\PLFS4_details.csv\n",
      "(2720, 11)\n",
      "eSankyiki Dataset\\PLFS\\PLFS5_details.csv\n",
      "(2770, 11)\n",
      "eSankyiki Dataset\\WMI\\WMI1_details.csv\n",
      "(2870, 11)\n",
      "eSankyiki Dataset\\WMI\\WMI2_details.csv\n",
      "(2876, 11)\n"
     ]
    }
   ],
   "source": [
    "\n",
    "for folder in os.listdir(dataset_dir):\n",
    "    for file in os.listdir(os.path.join(dataset_dir,folder)):\n",
    "        print(os.path.join(dataset_dir, folder, file))\n",
    "        d = pd.read_csv(os.path.join(dataset_dir, folder, file))\n",
    "        df = pd.concat([df, d], ignore_index=True)\n",
    "        print(df.shape)\n"
   ]
  },
  {
   "cell_type": "code",
   "execution_count": 5,
   "id": "e0c90ea0",
   "metadata": {},
   "outputs": [
    {
     "data": {
      "text/html": [
       "<div>\n",
       "<style scoped>\n",
       "    .dataframe tbody tr th:only-of-type {\n",
       "        vertical-align: middle;\n",
       "    }\n",
       "\n",
       "    .dataframe tbody tr th {\n",
       "        vertical-align: top;\n",
       "    }\n",
       "\n",
       "    .dataframe thead th {\n",
       "        text-align: right;\n",
       "    }\n",
       "</style>\n",
       "<table border=\"1\" class=\"dataframe\">\n",
       "  <thead>\n",
       "    <tr style=\"text-align: right;\">\n",
       "      <th></th>\n",
       "      <th>Title</th>\n",
       "      <th>Product</th>\n",
       "      <th>Category</th>\n",
       "      <th>Geography</th>\n",
       "      <th>Frequency</th>\n",
       "      <th>Reference Period</th>\n",
       "      <th>Release Date</th>\n",
       "      <th>Table No</th>\n",
       "      <th>Download URL</th>\n",
       "      <th>Data Source</th>\n",
       "      <th>Description</th>\n",
       "    </tr>\n",
       "  </thead>\n",
       "  <tbody>\n",
       "    <tr>\n",
       "      <th>0</th>\n",
       "      <td>Time series Trend of Number of factories &amp; Net...</td>\n",
       "      <td>ASI</td>\n",
       "      <td>Industrial Statistics</td>\n",
       "      <td>All India</td>\n",
       "      <td>Annual</td>\n",
       "      <td>1981-82 to 2022-23</td>\n",
       "      <td>30 Sep 2024</td>\n",
       "      <td>ASIAFY23001ANN</td>\n",
       "      <td>https://esankhyiki.mospi.gov.in/datacatalogue/...</td>\n",
       "      <td>IS Wing, MoSPI</td>\n",
       "      <td>Annual Survey of Industries (ASI) is a major s...</td>\n",
       "    </tr>\n",
       "    <tr>\n",
       "      <th>1</th>\n",
       "      <td>Time series Trend of No. of workers &amp; Total pe...</td>\n",
       "      <td>ASI</td>\n",
       "      <td>Industrial Statistics</td>\n",
       "      <td>All India</td>\n",
       "      <td>Annual</td>\n",
       "      <td>1981-82 to 2022-23</td>\n",
       "      <td>30 Sep 2024</td>\n",
       "      <td>ASIAFY23002ANN</td>\n",
       "      <td>https://esankhyiki.mospi.gov.in/datacatalogue/...</td>\n",
       "      <td>IS Wing, MoSPI</td>\n",
       "      <td>Annual Survey of Industries (ASI) is a major s...</td>\n",
       "    </tr>\n",
       "    <tr>\n",
       "      <th>2</th>\n",
       "      <td>State-wise no. of factories for 2022-23</td>\n",
       "      <td>ASI</td>\n",
       "      <td>Industrial Statistics</td>\n",
       "      <td>All India</td>\n",
       "      <td>Annual</td>\n",
       "      <td>2022-23</td>\n",
       "      <td>30 Sep 2024</td>\n",
       "      <td>ASIAFY23003ANN</td>\n",
       "      <td>https://esankhyiki.mospi.gov.in/datacatalogue/...</td>\n",
       "      <td>IS Wing, MoSPI</td>\n",
       "      <td>Annual Survey of Industries (ASI) is a major s...</td>\n",
       "    </tr>\n",
       "    <tr>\n",
       "      <th>3</th>\n",
       "      <td>Industry-wise no. of factories for 2022-23</td>\n",
       "      <td>ASI</td>\n",
       "      <td>Industrial Statistics</td>\n",
       "      <td>All India</td>\n",
       "      <td>Annual</td>\n",
       "      <td>2022-23</td>\n",
       "      <td>30 Sep 2024</td>\n",
       "      <td>ASIAFY23004ANN</td>\n",
       "      <td>https://esankhyiki.mospi.gov.in/datacatalogue/...</td>\n",
       "      <td>IS Wing, MoSPI</td>\n",
       "      <td>Annual Survey of Industries (ASI) is a major s...</td>\n",
       "    </tr>\n",
       "    <tr>\n",
       "      <th>4</th>\n",
       "      <td>Top 10 States by Number of Factories</td>\n",
       "      <td>ASI</td>\n",
       "      <td>Industrial Statistics</td>\n",
       "      <td>Statewise</td>\n",
       "      <td>Annual</td>\n",
       "      <td>2010-11 to 2022-23</td>\n",
       "      <td>30 Sep 2024</td>\n",
       "      <td>ASIAFY23005ANN</td>\n",
       "      <td>https://esankhyiki.mospi.gov.in/datacatalogue/...</td>\n",
       "      <td>IS Wing, MoSPI</td>\n",
       "      <td>Annual Survey of Industries (ASI) is a major s...</td>\n",
       "    </tr>\n",
       "  </tbody>\n",
       "</table>\n",
       "</div>"
      ],
      "text/plain": [
       "                                               Title Product  \\\n",
       "0  Time series Trend of Number of factories & Net...     ASI   \n",
       "1  Time series Trend of No. of workers & Total pe...     ASI   \n",
       "2            State-wise no. of factories for 2022-23     ASI   \n",
       "3         Industry-wise no. of factories for 2022-23     ASI   \n",
       "4               Top 10 States by Number of Factories     ASI   \n",
       "\n",
       "                Category  Geography Frequency    Reference Period  \\\n",
       "0  Industrial Statistics  All India    Annual  1981-82 to 2022-23   \n",
       "1  Industrial Statistics  All India    Annual  1981-82 to 2022-23   \n",
       "2  Industrial Statistics  All India    Annual             2022-23   \n",
       "3  Industrial Statistics  All India    Annual             2022-23   \n",
       "4  Industrial Statistics  Statewise    Annual  2010-11 to 2022-23   \n",
       "\n",
       "  Release Date        Table No  \\\n",
       "0  30 Sep 2024  ASIAFY23001ANN   \n",
       "1  30 Sep 2024  ASIAFY23002ANN   \n",
       "2  30 Sep 2024  ASIAFY23003ANN   \n",
       "3  30 Sep 2024  ASIAFY23004ANN   \n",
       "4  30 Sep 2024  ASIAFY23005ANN   \n",
       "\n",
       "                                        Download URL     Data Source  \\\n",
       "0  https://esankhyiki.mospi.gov.in/datacatalogue/...  IS Wing, MoSPI   \n",
       "1  https://esankhyiki.mospi.gov.in/datacatalogue/...  IS Wing, MoSPI   \n",
       "2  https://esankhyiki.mospi.gov.in/datacatalogue/...  IS Wing, MoSPI   \n",
       "3  https://esankhyiki.mospi.gov.in/datacatalogue/...  IS Wing, MoSPI   \n",
       "4  https://esankhyiki.mospi.gov.in/datacatalogue/...  IS Wing, MoSPI   \n",
       "\n",
       "                                         Description  \n",
       "0  Annual Survey of Industries (ASI) is a major s...  \n",
       "1  Annual Survey of Industries (ASI) is a major s...  \n",
       "2  Annual Survey of Industries (ASI) is a major s...  \n",
       "3  Annual Survey of Industries (ASI) is a major s...  \n",
       "4  Annual Survey of Industries (ASI) is a major s...  "
      ]
     },
     "execution_count": 5,
     "metadata": {},
     "output_type": "execute_result"
    }
   ],
   "source": [
    "df.head()"
   ]
  },
  {
   "cell_type": "code",
   "execution_count": 6,
   "id": "9bd1daa3",
   "metadata": {},
   "outputs": [
    {
     "data": {
      "text/plain": [
       "Title               0\n",
       "Product             0\n",
       "Category            0\n",
       "Geography           0\n",
       "Frequency           0\n",
       "Reference Period    0\n",
       "Release Date        0\n",
       "Table No            0\n",
       "Download URL        0\n",
       "Data Source         0\n",
       "Description         0\n",
       "dtype: int64"
      ]
     },
     "execution_count": 6,
     "metadata": {},
     "output_type": "execute_result"
    }
   ],
   "source": [
    "df.isnull().sum()"
   ]
  },
  {
   "cell_type": "code",
   "execution_count": 7,
   "id": "05a3fa30",
   "metadata": {},
   "outputs": [
    {
     "data": {
      "text/plain": [
       "(2876, 11)"
      ]
     },
     "execution_count": 7,
     "metadata": {},
     "output_type": "execute_result"
    }
   ],
   "source": [
    "df.drop_duplicates(inplace=True)\n",
    "df.shape"
   ]
  },
  {
   "cell_type": "code",
   "execution_count": 8,
   "id": "209d6ff7",
   "metadata": {},
   "outputs": [
    {
     "data": {
      "text/plain": [
       "(1271, 11)"
      ]
     },
     "execution_count": 8,
     "metadata": {},
     "output_type": "execute_result"
    }
   ],
   "source": [
    "df['Release Date'] = pd.to_datetime(df['Release Date'], errors= 'coerce')\n",
    "df = df.sort_values(by='Release Date', ascending=False)\n",
    "df = df.drop_duplicates(subset=\"Title\", keep=\"first\")\n",
    "df.shape"
   ]
  },
  {
   "cell_type": "code",
   "execution_count": 9,
   "id": "13f1b173",
   "metadata": {},
   "outputs": [
    {
     "data": {
      "text/html": [
       "<div>\n",
       "<style scoped>\n",
       "    .dataframe tbody tr th:only-of-type {\n",
       "        vertical-align: middle;\n",
       "    }\n",
       "\n",
       "    .dataframe tbody tr th {\n",
       "        vertical-align: top;\n",
       "    }\n",
       "\n",
       "    .dataframe thead th {\n",
       "        text-align: right;\n",
       "    }\n",
       "</style>\n",
       "<table border=\"1\" class=\"dataframe\">\n",
       "  <thead>\n",
       "    <tr style=\"text-align: right;\">\n",
       "      <th></th>\n",
       "      <th>Title</th>\n",
       "      <th>Product</th>\n",
       "      <th>Category</th>\n",
       "      <th>Geography</th>\n",
       "      <th>Frequency</th>\n",
       "      <th>Reference Period</th>\n",
       "      <th>Release Date</th>\n",
       "      <th>Table No</th>\n",
       "      <th>Download URL</th>\n",
       "      <th>Data Source</th>\n",
       "      <th>Description</th>\n",
       "    </tr>\n",
       "  </thead>\n",
       "  <tbody>\n",
       "    <tr>\n",
       "      <th>127</th>\n",
       "      <td>All-India year-on-year inflation rates (%) for...</td>\n",
       "      <td>CPI</td>\n",
       "      <td>Price Statistics</td>\n",
       "      <td>All India, Rural, Urban, States</td>\n",
       "      <td>Monthly</td>\n",
       "      <td>Feb 2025</td>\n",
       "      <td>2025-03-12</td>\n",
       "      <td>CPIMCY25002FEB</td>\n",
       "      <td>https://esankhyiki.mospi.gov.in/datacatalogue/...</td>\n",
       "      <td>Price Statistics Division, MoSPI</td>\n",
       "      <td>Consumer Price Index (CPI) measures the change...</td>\n",
       "    </tr>\n",
       "    <tr>\n",
       "      <th>131</th>\n",
       "      <td>All India Inflation rate based on CPI (Base 20...</td>\n",
       "      <td>CPI</td>\n",
       "      <td>Price Statistics</td>\n",
       "      <td>All India, Rural, Urban, States</td>\n",
       "      <td>Monthly</td>\n",
       "      <td>Feb 2025</td>\n",
       "      <td>2025-03-12</td>\n",
       "      <td>CPIMCY25006FEB</td>\n",
       "      <td>https://esankhyiki.mospi.gov.in/datacatalogue/...</td>\n",
       "      <td>Price Statistics Division, MoSPI</td>\n",
       "      <td>Consumer Price Index (CPI) measures the change...</td>\n",
       "    </tr>\n",
       "    <tr>\n",
       "      <th>129</th>\n",
       "      <td>Year-on-year inflation rates (%) of major@ Sta...</td>\n",
       "      <td>CPI</td>\n",
       "      <td>Price Statistics</td>\n",
       "      <td>All India, Rural, Urban, States</td>\n",
       "      <td>Monthly</td>\n",
       "      <td>Feb 2025</td>\n",
       "      <td>2025-03-12</td>\n",
       "      <td>CPIMCY25004FEB</td>\n",
       "      <td>https://esankhyiki.mospi.gov.in/datacatalogue/...</td>\n",
       "      <td>Price Statistics Division, MoSPI</td>\n",
       "      <td>Consumer Price Index (CPI) measures the change...</td>\n",
       "    </tr>\n",
       "    <tr>\n",
       "      <th>128</th>\n",
       "      <td>General CPI for States for Rural, Urban and Co...</td>\n",
       "      <td>CPI</td>\n",
       "      <td>Price Statistics</td>\n",
       "      <td>All India, Rural, Urban, States</td>\n",
       "      <td>Monthly</td>\n",
       "      <td>Feb 2025</td>\n",
       "      <td>2025-03-12</td>\n",
       "      <td>CPIMCY25003FEB</td>\n",
       "      <td>https://esankhyiki.mospi.gov.in/datacatalogue/...</td>\n",
       "      <td>Price Statistics Division, MoSPI</td>\n",
       "      <td>Consumer Price Index (CPI) measures the change...</td>\n",
       "    </tr>\n",
       "    <tr>\n",
       "      <th>126</th>\n",
       "      <td>All-India General, Group and Sub-group level C...</td>\n",
       "      <td>CPI</td>\n",
       "      <td>Price Statistics</td>\n",
       "      <td>All India, Rural, Urban, States</td>\n",
       "      <td>Monthly</td>\n",
       "      <td>Feb 2025</td>\n",
       "      <td>2025-03-12</td>\n",
       "      <td>CPIMCY25001FEB</td>\n",
       "      <td>https://esankhyiki.mospi.gov.in/datacatalogue/...</td>\n",
       "      <td>Price Statistics Division, MoSPI</td>\n",
       "      <td>Consumer Price Index (CPI) measures the change...</td>\n",
       "    </tr>\n",
       "  </tbody>\n",
       "</table>\n",
       "</div>"
      ],
      "text/plain": [
       "                                                 Title Product  \\\n",
       "127  All-India year-on-year inflation rates (%) for...     CPI   \n",
       "131  All India Inflation rate based on CPI (Base 20...     CPI   \n",
       "129  Year-on-year inflation rates (%) of major@ Sta...     CPI   \n",
       "128  General CPI for States for Rural, Urban and Co...     CPI   \n",
       "126  All-India General, Group and Sub-group level C...     CPI   \n",
       "\n",
       "             Category                        Geography Frequency  \\\n",
       "127  Price Statistics  All India, Rural, Urban, States   Monthly   \n",
       "131  Price Statistics  All India, Rural, Urban, States   Monthly   \n",
       "129  Price Statistics  All India, Rural, Urban, States   Monthly   \n",
       "128  Price Statistics  All India, Rural, Urban, States   Monthly   \n",
       "126  Price Statistics  All India, Rural, Urban, States   Monthly   \n",
       "\n",
       "    Reference Period Release Date        Table No  \\\n",
       "127         Feb 2025   2025-03-12  CPIMCY25002FEB   \n",
       "131         Feb 2025   2025-03-12  CPIMCY25006FEB   \n",
       "129         Feb 2025   2025-03-12  CPIMCY25004FEB   \n",
       "128         Feb 2025   2025-03-12  CPIMCY25003FEB   \n",
       "126         Feb 2025   2025-03-12  CPIMCY25001FEB   \n",
       "\n",
       "                                          Download URL  \\\n",
       "127  https://esankhyiki.mospi.gov.in/datacatalogue/...   \n",
       "131  https://esankhyiki.mospi.gov.in/datacatalogue/...   \n",
       "129  https://esankhyiki.mospi.gov.in/datacatalogue/...   \n",
       "128  https://esankhyiki.mospi.gov.in/datacatalogue/...   \n",
       "126  https://esankhyiki.mospi.gov.in/datacatalogue/...   \n",
       "\n",
       "                          Data Source  \\\n",
       "127  Price Statistics Division, MoSPI   \n",
       "131  Price Statistics Division, MoSPI   \n",
       "129  Price Statistics Division, MoSPI   \n",
       "128  Price Statistics Division, MoSPI   \n",
       "126  Price Statistics Division, MoSPI   \n",
       "\n",
       "                                           Description  \n",
       "127  Consumer Price Index (CPI) measures the change...  \n",
       "131  Consumer Price Index (CPI) measures the change...  \n",
       "129  Consumer Price Index (CPI) measures the change...  \n",
       "128  Consumer Price Index (CPI) measures the change...  \n",
       "126  Consumer Price Index (CPI) measures the change...  "
      ]
     },
     "execution_count": 9,
     "metadata": {},
     "output_type": "execute_result"
    }
   ],
   "source": [
    "df.head()"
   ]
  },
  {
   "cell_type": "code",
   "execution_count": 10,
   "id": "1e80a74d",
   "metadata": {},
   "outputs": [],
   "source": [
    "df.reset_index(drop=True, inplace=True)\n",
    "df['id'] = df.index"
   ]
  },
  {
   "cell_type": "code",
   "execution_count": 11,
   "id": "a589f3d9",
   "metadata": {},
   "outputs": [],
   "source": [
    "df['search_text'] = df['Title'] + ' ' + df['Description']"
   ]
  },
  {
   "cell_type": "code",
   "execution_count": 12,
   "id": "b01ef10d",
   "metadata": {},
   "outputs": [
    {
     "data": {
      "text/plain": [
       "(1271, 13)"
      ]
     },
     "execution_count": 12,
     "metadata": {},
     "output_type": "execute_result"
    }
   ],
   "source": [
    "df.shape"
   ]
  },
  {
   "cell_type": "code",
   "execution_count": 13,
   "id": "8cf98a01",
   "metadata": {},
   "outputs": [
    {
     "data": {
      "text/html": [
       "<div>\n",
       "<style scoped>\n",
       "    .dataframe tbody tr th:only-of-type {\n",
       "        vertical-align: middle;\n",
       "    }\n",
       "\n",
       "    .dataframe tbody tr th {\n",
       "        vertical-align: top;\n",
       "    }\n",
       "\n",
       "    .dataframe thead th {\n",
       "        text-align: right;\n",
       "    }\n",
       "</style>\n",
       "<table border=\"1\" class=\"dataframe\">\n",
       "  <thead>\n",
       "    <tr style=\"text-align: right;\">\n",
       "      <th></th>\n",
       "      <th>Title</th>\n",
       "      <th>Product</th>\n",
       "      <th>Category</th>\n",
       "      <th>Geography</th>\n",
       "      <th>Frequency</th>\n",
       "      <th>Reference Period</th>\n",
       "      <th>Release Date</th>\n",
       "      <th>Table No</th>\n",
       "      <th>Download URL</th>\n",
       "      <th>Data Source</th>\n",
       "      <th>Description</th>\n",
       "      <th>id</th>\n",
       "      <th>search_text</th>\n",
       "    </tr>\n",
       "  </thead>\n",
       "  <tbody>\n",
       "    <tr>\n",
       "      <th>0</th>\n",
       "      <td>All-India year-on-year inflation rates (%) for...</td>\n",
       "      <td>CPI</td>\n",
       "      <td>Price Statistics</td>\n",
       "      <td>All India, Rural, Urban, States</td>\n",
       "      <td>Monthly</td>\n",
       "      <td>Feb 2025</td>\n",
       "      <td>2025-03-12</td>\n",
       "      <td>CPIMCY25002FEB</td>\n",
       "      <td>https://esankhyiki.mospi.gov.in/datacatalogue/...</td>\n",
       "      <td>Price Statistics Division, MoSPI</td>\n",
       "      <td>Consumer Price Index (CPI) measures the change...</td>\n",
       "      <td>0</td>\n",
       "      <td>All-India year-on-year inflation rates (%) for...</td>\n",
       "    </tr>\n",
       "    <tr>\n",
       "      <th>1</th>\n",
       "      <td>All India Inflation rate based on CPI (Base 20...</td>\n",
       "      <td>CPI</td>\n",
       "      <td>Price Statistics</td>\n",
       "      <td>All India, Rural, Urban, States</td>\n",
       "      <td>Monthly</td>\n",
       "      <td>Feb 2025</td>\n",
       "      <td>2025-03-12</td>\n",
       "      <td>CPIMCY25006FEB</td>\n",
       "      <td>https://esankhyiki.mospi.gov.in/datacatalogue/...</td>\n",
       "      <td>Price Statistics Division, MoSPI</td>\n",
       "      <td>Consumer Price Index (CPI) measures the change...</td>\n",
       "      <td>1</td>\n",
       "      <td>All India Inflation rate based on CPI (Base 20...</td>\n",
       "    </tr>\n",
       "    <tr>\n",
       "      <th>2</th>\n",
       "      <td>Year-on-year inflation rates (%) of major@ Sta...</td>\n",
       "      <td>CPI</td>\n",
       "      <td>Price Statistics</td>\n",
       "      <td>All India, Rural, Urban, States</td>\n",
       "      <td>Monthly</td>\n",
       "      <td>Feb 2025</td>\n",
       "      <td>2025-03-12</td>\n",
       "      <td>CPIMCY25004FEB</td>\n",
       "      <td>https://esankhyiki.mospi.gov.in/datacatalogue/...</td>\n",
       "      <td>Price Statistics Division, MoSPI</td>\n",
       "      <td>Consumer Price Index (CPI) measures the change...</td>\n",
       "      <td>2</td>\n",
       "      <td>Year-on-year inflation rates (%) of major@ Sta...</td>\n",
       "    </tr>\n",
       "    <tr>\n",
       "      <th>3</th>\n",
       "      <td>General CPI for States for Rural, Urban and Co...</td>\n",
       "      <td>CPI</td>\n",
       "      <td>Price Statistics</td>\n",
       "      <td>All India, Rural, Urban, States</td>\n",
       "      <td>Monthly</td>\n",
       "      <td>Feb 2025</td>\n",
       "      <td>2025-03-12</td>\n",
       "      <td>CPIMCY25003FEB</td>\n",
       "      <td>https://esankhyiki.mospi.gov.in/datacatalogue/...</td>\n",
       "      <td>Price Statistics Division, MoSPI</td>\n",
       "      <td>Consumer Price Index (CPI) measures the change...</td>\n",
       "      <td>3</td>\n",
       "      <td>General CPI for States for Rural, Urban and Co...</td>\n",
       "    </tr>\n",
       "    <tr>\n",
       "      <th>4</th>\n",
       "      <td>All-India General, Group and Sub-group level C...</td>\n",
       "      <td>CPI</td>\n",
       "      <td>Price Statistics</td>\n",
       "      <td>All India, Rural, Urban, States</td>\n",
       "      <td>Monthly</td>\n",
       "      <td>Feb 2025</td>\n",
       "      <td>2025-03-12</td>\n",
       "      <td>CPIMCY25001FEB</td>\n",
       "      <td>https://esankhyiki.mospi.gov.in/datacatalogue/...</td>\n",
       "      <td>Price Statistics Division, MoSPI</td>\n",
       "      <td>Consumer Price Index (CPI) measures the change...</td>\n",
       "      <td>4</td>\n",
       "      <td>All-India General, Group and Sub-group level C...</td>\n",
       "    </tr>\n",
       "  </tbody>\n",
       "</table>\n",
       "</div>"
      ],
      "text/plain": [
       "                                               Title Product  \\\n",
       "0  All-India year-on-year inflation rates (%) for...     CPI   \n",
       "1  All India Inflation rate based on CPI (Base 20...     CPI   \n",
       "2  Year-on-year inflation rates (%) of major@ Sta...     CPI   \n",
       "3  General CPI for States for Rural, Urban and Co...     CPI   \n",
       "4  All-India General, Group and Sub-group level C...     CPI   \n",
       "\n",
       "           Category                        Geography Frequency  \\\n",
       "0  Price Statistics  All India, Rural, Urban, States   Monthly   \n",
       "1  Price Statistics  All India, Rural, Urban, States   Monthly   \n",
       "2  Price Statistics  All India, Rural, Urban, States   Monthly   \n",
       "3  Price Statistics  All India, Rural, Urban, States   Monthly   \n",
       "4  Price Statistics  All India, Rural, Urban, States   Monthly   \n",
       "\n",
       "  Reference Period Release Date        Table No  \\\n",
       "0         Feb 2025   2025-03-12  CPIMCY25002FEB   \n",
       "1         Feb 2025   2025-03-12  CPIMCY25006FEB   \n",
       "2         Feb 2025   2025-03-12  CPIMCY25004FEB   \n",
       "3         Feb 2025   2025-03-12  CPIMCY25003FEB   \n",
       "4         Feb 2025   2025-03-12  CPIMCY25001FEB   \n",
       "\n",
       "                                        Download URL  \\\n",
       "0  https://esankhyiki.mospi.gov.in/datacatalogue/...   \n",
       "1  https://esankhyiki.mospi.gov.in/datacatalogue/...   \n",
       "2  https://esankhyiki.mospi.gov.in/datacatalogue/...   \n",
       "3  https://esankhyiki.mospi.gov.in/datacatalogue/...   \n",
       "4  https://esankhyiki.mospi.gov.in/datacatalogue/...   \n",
       "\n",
       "                        Data Source  \\\n",
       "0  Price Statistics Division, MoSPI   \n",
       "1  Price Statistics Division, MoSPI   \n",
       "2  Price Statistics Division, MoSPI   \n",
       "3  Price Statistics Division, MoSPI   \n",
       "4  Price Statistics Division, MoSPI   \n",
       "\n",
       "                                         Description  id  \\\n",
       "0  Consumer Price Index (CPI) measures the change...   0   \n",
       "1  Consumer Price Index (CPI) measures the change...   1   \n",
       "2  Consumer Price Index (CPI) measures the change...   2   \n",
       "3  Consumer Price Index (CPI) measures the change...   3   \n",
       "4  Consumer Price Index (CPI) measures the change...   4   \n",
       "\n",
       "                                         search_text  \n",
       "0  All-India year-on-year inflation rates (%) for...  \n",
       "1  All India Inflation rate based on CPI (Base 20...  \n",
       "2  Year-on-year inflation rates (%) of major@ Sta...  \n",
       "3  General CPI for States for Rural, Urban and Co...  \n",
       "4  All-India General, Group and Sub-group level C...  "
      ]
     },
     "execution_count": 13,
     "metadata": {},
     "output_type": "execute_result"
    }
   ],
   "source": [
    "df.head()"
   ]
  },
  {
   "cell_type": "code",
   "execution_count": 15,
   "id": "3517b536",
   "metadata": {},
   "outputs": [
    {
     "data": {
      "text/plain": [
       "Product\n",
       "NAS      475\n",
       "IIP      380\n",
       "WMI      106\n",
       "PLFS     102\n",
       "ASUSE     89\n",
       "HCES      54\n",
       "CAMS      26\n",
       "MIS       20\n",
       "ASI       11\n",
       "CPI        8\n",
       "Name: count, dtype: int64"
      ]
     },
     "execution_count": 15,
     "metadata": {},
     "output_type": "execute_result"
    }
   ],
   "source": [
    "df['Product'].value_counts()"
   ]
  },
  {
   "cell_type": "code",
   "execution_count": null,
   "id": "746092a3",
   "metadata": {},
   "outputs": [
    {
     "data": {
      "text/plain": [
       "Frequency\n",
       "Annual                            797\n",
       "Monthly                           388\n",
       "As and when requirement arises     54\n",
       "-                                  20\n",
       "Quarterly                          12\n",
       "Name: count, dtype: int64"
      ]
     },
     "execution_count": 14,
     "metadata": {},
     "output_type": "execute_result"
    },
    {
     "data": {
      "image/png": "[encoded data removed]",
      "text/plain": [
       "<Figure size 640x480 with 1 Axes>"
      ]
     },
     "metadata": {},
     "output_type": "display_data"
    }
   ],
   "source": [
    "df['Category'].value_counts().plot(kind='bar')\n",
    "df['Frequency'].value_counts()"
   ]
  },
  {
   "cell_type": "code",
   "execution_count": 14,
   "id": "77f3bcba",
   "metadata": {},
   "outputs": [
    {
     "data": {
      "text/plain": [
       "7"
      ]
     },
     "execution_count": 14,
     "metadata": {},
     "output_type": "execute_result"
    }
   ],
   "source": [
    "df['Geography'].nunique()"
   ]
  },
  {
   "cell_type": "code",
   "execution_count": 15,
   "id": "031ca174",
   "metadata": {},
   "outputs": [
    {
     "data": {
      "text/plain": [
       "'all india year on year inflation rates % for general group and sub group level cpi and cfpi numbers for rural urban and combined base year 2012 100 consumer price index cpi measures the changes over time in general level of retail prices of selected goods and services that households purchase for the purpose of consumption such changes affect the real purchasing power of consumers income and their welfare cpi numbers are widely used as macroeconomic indicator of inflation and also as a tool by government and central banks for targeting inflation and monitoring price stability all india consumer price indices are shown here for food beverages clothing footwear housing fuel light and misc for rural and urban areas in india'"
      ]
     },
     "execution_count": 15,
     "metadata": {},
     "output_type": "execute_result"
    }
   ],
   "source": [
    "import re\n",
    "import string\n",
    "from bs4 import BeautifulSoup\n",
    "\n",
    "def clean_search_text(text, remove_stopwords=False):\n",
    "    if not isinstance(text, str):\n",
    "        return \"\"\n",
    "\n",
    "    # Remove HTML tags\n",
    "    text = BeautifulSoup(text, \"html.parser\").get_text()\n",
    "\n",
    "    # Remove URLs\n",
    "    text = re.sub(r'http\\S+|www\\S+|https\\S+', '', text)\n",
    "\n",
    "    text = re.sub(r'[^\\w\\s%\\-]', '', text)\n",
    "    text = text.lower()\n",
    "\n",
    "    # Remove extra spaces\n",
    "    text = re.sub(r'\\s+', ' ', text).strip()\n",
    "    # Replace all types of dashes (hyphen, en dash, em dash) with space\n",
    "    text = re.sub(r'[-–—]', ' ', text)\n",
    "\n",
    "    if remove_stopwords: #we will use it to test accuracy for both cases and will decide wheather remove stopwords or not.\n",
    "        from nltk.corpus import stopwords\n",
    "        stop_words = set(stopwords.words('english'))\n",
    "        text = \" \".join([word for word in text.split() if word not in stop_words])\n",
    "\n",
    "    return text\n",
    "\n",
    "df['search_text'] = df['search_text'].apply(clean_search_text)\n",
    "df['search_text'][0]"
   ]
  },
  {
   "cell_type": "code",
   "execution_count": 16,
   "id": "b7a08412",
   "metadata": {},
   "outputs": [],
   "source": [
    "df.to_csv(\"dataset.csv\")"
   ]
  },
  {
   "cell_type": "code",
   "execution_count": null,
   "id": "b284445e",
   "metadata": {},
   "outputs": [],
   "source": []
  },
  {
   "cell_type": "code",
   "execution_count": null,
   "id": "6172154d",
   "metadata": {},
   "outputs": [],
   "source": []
  }
 ],
 "metadata": {
  "kernelspec": {
   "display_name": "env",
   "language": "python",
   "name": "python3"
  },
  "language_info": {
   "codemirror_mode": {
    "name": "ipython",
    "version": 3
   },
   "file_extension": ".py",
   "mimetype": "text/x-python",
   "name": "python",
   "nbconvert_exporter": "python",
   "pygments_lexer": "ipython3",
   "version": "3.10.0"
  }
 },
 "nbformat": 4,
 "nbformat_minor": 5
}
